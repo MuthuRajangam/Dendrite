{
 "cells": [
  {
   "cell_type": "code",
   "execution_count": null,
   "id": "0ff406ea",
   "metadata": {},
   "outputs": [],
   "source": [
    "import pandas as pd\n",
    "import json\n",
    "from sklearn.preprocessing import StandardScaler, LabelEncoder\n",
    "from sklearn.ensemble import RandomForestRegressor, RandomForestClassifier\n",
    "from sklearn.metrics import mean_squared_error, r2_score\n",
    "from sklearn.decomposition import PCA\n",
    "from sklearn.feature_selection import SelectKBest, f_classif, f_regression\n",
    "\n",
    "def load_json(file_path):\n",
    "    with open(file_path, 'r') as file:\n",
    "        return json.load(file)\n",
    "\n",
    "def load_dataset(file_path):\n",
    "    return pd.read_csv(file_path)\n",
    "\n",
    "def handle_missing_data(df, feature_handling):\n",
    "    for feature, details in feature_handling.items():\n",
    "        if details['is_selected']:\n",
    "            if 'missing_values' in details['feature_details']:\n",
    "                if details['feature_details']['missing_values'] == 'Impute':\n",
    "                    if details['feature_details']['impute_with'] == 'Average of values':\n",
    "                        df[feature] = df[feature].fillna(df[feature].mean())\n",
    "                    elif details['feature_details']['impute_with'] == 'custom':\n",
    "                        df[feature] = df[feature].fillna(details['feature_details']['impute_value'])\n",
    "                    \n",
    "    return df\n",
    "\n",
    "def feature_reduction(df, method, num_features_to_keep, prediction_type, target):\n",
    "    if method == 'PCA':\n",
    "        pca = PCA(n_components=num_features_to_keep)\n",
    "        return pca.fit_transform(df)\n",
    "    elif method == 'Tree-based':\n",
    "        selector = SelectKBest(score_func=f_classif if prediction_type == 'classification' else f_regression, k=num_features_to_keep)\n",
    "        return selector.fit_transform(df, target)\n",
    "    else:\n",
    "        raise ValueError(f\"Unknown feature reduction method: {method}\")\n",
    "        \n",
    "def get_model(config):\n",
    "    model_name = None\n",
    "    for alg_name, alg_details in config['algorithms'].items():\n",
    "        if alg_details['is_selected']:\n",
    "            model_name = alg_name\n",
    "            break\n",
    "    if model_name == 'RandomForestRegressor':\n",
    "        return RandomForestRegressor()\n",
    "    elif model_name == 'RandomForestClassifier':\n",
    "        return RandomForestClassifier()\n",
    "    else:\n",
    "        raise ValueError(f\"Unknown or unsupported model: {model_name}\")\n",
    "\n"
   ]
  }
 ],
 "metadata": {
  "kernelspec": {
   "display_name": "Python 3 (ipykernel)",
   "language": "python",
   "name": "python3"
  },
  "language_info": {
   "codemirror_mode": {
    "name": "ipython",
    "version": 3
   },
   "file_extension": ".py",
   "mimetype": "text/x-python",
   "name": "python",
   "nbconvert_exporter": "python",
   "pygments_lexer": "ipython3",
   "version": "3.11.5"
  }
 },
 "nbformat": 4,
 "nbformat_minor": 5
}
